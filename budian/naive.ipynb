{
 "cells": [
  {
   "cell_type": "code",
   "execution_count": 1,
   "source": [
    "import pandas as pd\r\n",
    "import numpy as np\r\n",
    "import math as math"
   ],
   "outputs": [],
   "metadata": {
    "collapsed": true
   }
  },
  {
   "cell_type": "code",
   "execution_count": 2,
   "source": [
    "truenews = pd.read_csv('true-split.csv')\r\n",
    "fakenews = pd.read_csv('fake-split.csv')"
   ],
   "outputs": [],
   "metadata": {
    "collapsed": true
   }
  },
  {
   "cell_type": "code",
   "execution_count": 3,
   "source": [
    "truenews['True/Fake']='True'\r\n",
    "fakenews['True/Fake']='Fake'"
   ],
   "outputs": [],
   "metadata": {
    "collapsed": true
   }
  },
  {
   "cell_type": "code",
   "execution_count": 4,
   "source": [
    "# gabung fake & true jadi 1\r\n",
    "news = pd.concat([truenews, fakenews])\r\n",
    "news[\"Article\"] = news[\"title\"] + news[\"text\"]\r\n",
    "news.sample(frac = 1)\r\n"
   ],
   "outputs": [
    {
     "output_type": "execute_result",
     "data": {
      "text/html": [
       "<div>\n",
       "<style scoped>\n",
       "    .dataframe tbody tr th:only-of-type {\n",
       "        vertical-align: middle;\n",
       "    }\n",
       "\n",
       "    .dataframe tbody tr th {\n",
       "        vertical-align: top;\n",
       "    }\n",
       "\n",
       "    .dataframe thead th {\n",
       "        text-align: right;\n",
       "    }\n",
       "</style>\n",
       "<table border=\"1\" class=\"dataframe\">\n",
       "  <thead>\n",
       "    <tr style=\"text-align: right;\">\n",
       "      <th></th>\n",
       "      <th>Unnamed: 0</th>\n",
       "      <th>title</th>\n",
       "      <th>text</th>\n",
       "      <th>subject</th>\n",
       "      <th>date</th>\n",
       "      <th>True/Fake</th>\n",
       "      <th>Article</th>\n",
       "    </tr>\n",
       "  </thead>\n",
       "  <tbody>\n",
       "    <tr>\n",
       "      <th>468</th>\n",
       "      <td>23479</td>\n",
       "      <td>How to Blow $700 Million: Al Jazeera America F...</td>\n",
       "      <td>21st Century Wire says Al Jazeera America will...</td>\n",
       "      <td>Middle-east</td>\n",
       "      <td>January 14, 2016</td>\n",
       "      <td>Fake</td>\n",
       "      <td>How to Blow $700 Million: Al Jazeera America F...</td>\n",
       "    </tr>\n",
       "    <tr>\n",
       "      <th>383</th>\n",
       "      <td>21371</td>\n",
       "      <td>As Syria war tightens, U.S. and Russia militar...</td>\n",
       "      <td>AL UDEID AIR BASE, Qatar (Reuters) - Even as t...</td>\n",
       "      <td>worldnews</td>\n",
       "      <td>August 24, 2017</td>\n",
       "      <td>True</td>\n",
       "      <td>As Syria war tightens, U.S. and Russia militar...</td>\n",
       "    </tr>\n",
       "    <tr>\n",
       "      <th>30</th>\n",
       "      <td>23041</td>\n",
       "      <td>U.S. Inauguration: Historic Day Marks Beginnin...</td>\n",
       "      <td>Mark Anderson  American Free PressWASHINGTON,...</td>\n",
       "      <td>Middle-east</td>\n",
       "      <td>January 21, 2017</td>\n",
       "      <td>Fake</td>\n",
       "      <td>U.S. Inauguration: Historic Day Marks Beginnin...</td>\n",
       "    </tr>\n",
       "    <tr>\n",
       "      <th>49</th>\n",
       "      <td>23060</td>\n",
       "      <td>Boiler Room #92 – The (Hollywood) Hills Have Eyes</td>\n",
       "      <td>Tune in to the Alternate Current Radio Network...</td>\n",
       "      <td>Middle-east</td>\n",
       "      <td>January 13, 2017</td>\n",
       "      <td>Fake</td>\n",
       "      <td>Boiler Room #92 – The (Hollywood) Hills Have E...</td>\n",
       "    </tr>\n",
       "    <tr>\n",
       "      <th>158</th>\n",
       "      <td>21146</td>\n",
       "      <td>Vietnam says violations found at central bank ...</td>\n",
       "      <td>HANOI (Reuters) - Vietnam has found faults wit...</td>\n",
       "      <td>worldnews</td>\n",
       "      <td>September 2, 2017</td>\n",
       "      <td>True</td>\n",
       "      <td>Vietnam says violations found at central bank ...</td>\n",
       "    </tr>\n",
       "    <tr>\n",
       "      <th>...</th>\n",
       "      <td>...</td>\n",
       "      <td>...</td>\n",
       "      <td>...</td>\n",
       "      <td>...</td>\n",
       "      <td>...</td>\n",
       "      <td>...</td>\n",
       "      <td>...</td>\n",
       "    </tr>\n",
       "    <tr>\n",
       "      <th>297</th>\n",
       "      <td>23308</td>\n",
       "      <td>DALLAS MAIDAN: Staged Snipers Designed to Infl...</td>\n",
       "      <td>Daily Shooter 21st Century WireLast night, a h...</td>\n",
       "      <td>Middle-east</td>\n",
       "      <td>July 8, 2016</td>\n",
       "      <td>Fake</td>\n",
       "      <td>DALLAS MAIDAN: Staged Snipers Designed to Infl...</td>\n",
       "    </tr>\n",
       "    <tr>\n",
       "      <th>185</th>\n",
       "      <td>21173</td>\n",
       "      <td>Al Shabaab bomb kills 12 in Somalia's Puntland</td>\n",
       "      <td>BOSSASO, Somalia (Reuters) - An al Shabaab bom...</td>\n",
       "      <td>worldnews</td>\n",
       "      <td>September 1, 2017</td>\n",
       "      <td>True</td>\n",
       "      <td>Al Shabaab bomb kills 12 in Somalia's Puntland...</td>\n",
       "    </tr>\n",
       "    <tr>\n",
       "      <th>403</th>\n",
       "      <td>21391</td>\n",
       "      <td>Romanian president opposes plans for judicial ...</td>\n",
       "      <td>BUCHAREST (Reuters) - Romania s justice minist...</td>\n",
       "      <td>worldnews</td>\n",
       "      <td>August 23, 2017</td>\n",
       "      <td>True</td>\n",
       "      <td>Romanian president opposes plans for judicial ...</td>\n",
       "    </tr>\n",
       "    <tr>\n",
       "      <th>14</th>\n",
       "      <td>21002</td>\n",
       "      <td>Dangerous hurricane Irma moving towards Caribb...</td>\n",
       "      <td>(Reuters) - Irma, now a category 4 , is headin...</td>\n",
       "      <td>worldnews</td>\n",
       "      <td>September 5, 2017</td>\n",
       "      <td>True</td>\n",
       "      <td>Dangerous hurricane Irma moving towards Caribb...</td>\n",
       "    </tr>\n",
       "    <tr>\n",
       "      <th>125</th>\n",
       "      <td>21113</td>\n",
       "      <td>Myanmar urges Rohingya Muslims to help hunt in...</td>\n",
       "      <td>COX S BAZAR, Bangladesh/YANGON (Reuters) - Mya...</td>\n",
       "      <td>worldnews</td>\n",
       "      <td>September 3, 2017</td>\n",
       "      <td>True</td>\n",
       "      <td>Myanmar urges Rohingya Muslims to help hunt in...</td>\n",
       "    </tr>\n",
       "  </tbody>\n",
       "</table>\n",
       "<p>899 rows × 7 columns</p>\n",
       "</div>"
      ],
      "text/plain": [
       "     Unnamed: 0                                              title  \\\n",
       "468       23479  How to Blow $700 Million: Al Jazeera America F...   \n",
       "383       21371  As Syria war tightens, U.S. and Russia militar...   \n",
       "30        23041  U.S. Inauguration: Historic Day Marks Beginnin...   \n",
       "49        23060  Boiler Room #92 – The (Hollywood) Hills Have Eyes   \n",
       "158       21146  Vietnam says violations found at central bank ...   \n",
       "..          ...                                                ...   \n",
       "297       23308  DALLAS MAIDAN: Staged Snipers Designed to Infl...   \n",
       "185       21173     Al Shabaab bomb kills 12 in Somalia's Puntland   \n",
       "403       21391  Romanian president opposes plans for judicial ...   \n",
       "14        21002  Dangerous hurricane Irma moving towards Caribb...   \n",
       "125       21113  Myanmar urges Rohingya Muslims to help hunt in...   \n",
       "\n",
       "                                                  text      subject  \\\n",
       "468  21st Century Wire says Al Jazeera America will...  Middle-east   \n",
       "383  AL UDEID AIR BASE, Qatar (Reuters) - Even as t...    worldnews   \n",
       "30    Mark Anderson  American Free PressWASHINGTON,...  Middle-east   \n",
       "49   Tune in to the Alternate Current Radio Network...  Middle-east   \n",
       "158  HANOI (Reuters) - Vietnam has found faults wit...    worldnews   \n",
       "..                                                 ...          ...   \n",
       "297  Daily Shooter 21st Century WireLast night, a h...  Middle-east   \n",
       "185  BOSSASO, Somalia (Reuters) - An al Shabaab bom...    worldnews   \n",
       "403  BUCHAREST (Reuters) - Romania s justice minist...    worldnews   \n",
       "14   (Reuters) - Irma, now a category 4 , is headin...    worldnews   \n",
       "125  COX S BAZAR, Bangladesh/YANGON (Reuters) - Mya...    worldnews   \n",
       "\n",
       "                   date True/Fake  \\\n",
       "468    January 14, 2016      Fake   \n",
       "383    August 24, 2017       True   \n",
       "30     January 21, 2017      Fake   \n",
       "49     January 13, 2017      Fake   \n",
       "158  September 2, 2017       True   \n",
       "..                  ...       ...   \n",
       "297        July 8, 2016      Fake   \n",
       "185  September 1, 2017       True   \n",
       "403    August 23, 2017       True   \n",
       "14   September 5, 2017       True   \n",
       "125  September 3, 2017       True   \n",
       "\n",
       "                                               Article  \n",
       "468  How to Blow $700 Million: Al Jazeera America F...  \n",
       "383  As Syria war tightens, U.S. and Russia militar...  \n",
       "30   U.S. Inauguration: Historic Day Marks Beginnin...  \n",
       "49   Boiler Room #92 – The (Hollywood) Hills Have E...  \n",
       "158  Vietnam says violations found at central bank ...  \n",
       "..                                                 ...  \n",
       "297  DALLAS MAIDAN: Staged Snipers Designed to Infl...  \n",
       "185  Al Shabaab bomb kills 12 in Somalia's Puntland...  \n",
       "403  Romanian president opposes plans for judicial ...  \n",
       "14   Dangerous hurricane Irma moving towards Caribb...  \n",
       "125  Myanmar urges Rohingya Muslims to help hunt in...  \n",
       "\n",
       "[899 rows x 7 columns]"
      ]
     },
     "metadata": {},
     "execution_count": 4
    }
   ],
   "metadata": {
    "collapsed": false
   }
  },
  {
   "cell_type": "code",
   "execution_count": 5,
   "source": [
    "#Data Cleaning\r\n",
    "from nltk.corpus import stopwords\r\n",
    "import string"
   ],
   "outputs": [],
   "metadata": {
    "collapsed": true
   }
  },
  {
   "cell_type": "code",
   "execution_count": 6,
   "source": [
    "def process_text(s):\r\n",
    "\r\n",
    "    # cek tanda baca\r\n",
    "    nopunc = [char for char in s if char not in string.punctuation]\r\n",
    "    nopunc = ''.join(nopunc)\r\n",
    "    clean_string = [word for word in nopunc.split() if word.lower() not in stopwords.words('english')]\r\n",
    "    return clean_string"
   ],
   "outputs": [],
   "metadata": {
    "collapsed": true
   }
  },
  {
   "cell_type": "code",
   "execution_count": 7,
   "source": [
    "\r\n",
    "news['Clean Text'] = news['Article'].apply(process_text)"
   ],
   "outputs": [],
   "metadata": {
    "collapsed": false
   }
  },
  {
   "cell_type": "code",
   "execution_count": 8,
   "source": [
    "news.sample(5)"
   ],
   "outputs": [
    {
     "output_type": "execute_result",
     "data": {
      "text/html": [
       "<div>\n",
       "<style scoped>\n",
       "    .dataframe tbody tr th:only-of-type {\n",
       "        vertical-align: middle;\n",
       "    }\n",
       "\n",
       "    .dataframe tbody tr th {\n",
       "        vertical-align: top;\n",
       "    }\n",
       "\n",
       "    .dataframe thead th {\n",
       "        text-align: right;\n",
       "    }\n",
       "</style>\n",
       "<table border=\"1\" class=\"dataframe\">\n",
       "  <thead>\n",
       "    <tr style=\"text-align: right;\">\n",
       "      <th></th>\n",
       "      <th>Unnamed: 0</th>\n",
       "      <th>title</th>\n",
       "      <th>text</th>\n",
       "      <th>subject</th>\n",
       "      <th>date</th>\n",
       "      <th>True/Fake</th>\n",
       "      <th>Article</th>\n",
       "      <th>Clean Text</th>\n",
       "    </tr>\n",
       "  </thead>\n",
       "  <tbody>\n",
       "    <tr>\n",
       "      <th>93</th>\n",
       "      <td>21081</td>\n",
       "      <td>In shift, Merkel backs end to EU-Turkey member...</td>\n",
       "      <td>BERLIN (Reuters) - German Chancellor Angela Me...</td>\n",
       "      <td>worldnews</td>\n",
       "      <td>September 3, 2017</td>\n",
       "      <td>True</td>\n",
       "      <td>In shift, Merkel backs end to EU-Turkey member...</td>\n",
       "      <td>[shift, Merkel, backs, end, EUTurkey, membersh...</td>\n",
       "    </tr>\n",
       "    <tr>\n",
       "      <th>335</th>\n",
       "      <td>21323</td>\n",
       "      <td>More than a thousand turn Philippine funeral t...</td>\n",
       "      <td>MANILA (Reuters) - More than a thousand people...</td>\n",
       "      <td>worldnews</td>\n",
       "      <td>August 26, 2017</td>\n",
       "      <td>True</td>\n",
       "      <td>More than a thousand turn Philippine funeral t...</td>\n",
       "      <td>[thousand, turn, Philippine, funeral, protest,...</td>\n",
       "    </tr>\n",
       "    <tr>\n",
       "      <th>308</th>\n",
       "      <td>23319</td>\n",
       "      <td>MISSING DETAILS: Orlando Shooting 911 Transcri...</td>\n",
       "      <td>Shawn Helton 21st Century Wire The FBI have fi...</td>\n",
       "      <td>Middle-east</td>\n",
       "      <td>June 22, 2016</td>\n",
       "      <td>Fake</td>\n",
       "      <td>MISSING DETAILS: Orlando Shooting 911 Transcri...</td>\n",
       "      <td>[MISSING, DETAILS, Orlando, Shooting, 911, Tra...</td>\n",
       "    </tr>\n",
       "    <tr>\n",
       "      <th>154</th>\n",
       "      <td>23165</td>\n",
       "      <td>‘COLOR REV’ AGIT PROP: George Soros MoveOn Agi...</td>\n",
       "      <td>Shawn Helton 21st Century WireAnti-Trump stree...</td>\n",
       "      <td>Middle-east</td>\n",
       "      <td>November 11, 2016</td>\n",
       "      <td>Fake</td>\n",
       "      <td>‘COLOR REV’ AGIT PROP: George Soros MoveOn Agi...</td>\n",
       "      <td>[‘COLOR, REV’, AGIT, PROP, George, Soros, Move...</td>\n",
       "    </tr>\n",
       "    <tr>\n",
       "      <th>409</th>\n",
       "      <td>23420</td>\n",
       "      <td>‘Vote All You Want, The Secret Government Won’...</td>\n",
       "      <td>21st Century Wire says Those who pull the stri...</td>\n",
       "      <td>Middle-east</td>\n",
       "      <td>March 9, 2016</td>\n",
       "      <td>Fake</td>\n",
       "      <td>‘Vote All You Want, The Secret Government Won’...</td>\n",
       "      <td>[‘Vote, Want, Secret, Government, Won’t, Chang...</td>\n",
       "    </tr>\n",
       "  </tbody>\n",
       "</table>\n",
       "</div>"
      ],
      "text/plain": [
       "     Unnamed: 0                                              title  \\\n",
       "93        21081  In shift, Merkel backs end to EU-Turkey member...   \n",
       "335       21323  More than a thousand turn Philippine funeral t...   \n",
       "308       23319  MISSING DETAILS: Orlando Shooting 911 Transcri...   \n",
       "154       23165  ‘COLOR REV’ AGIT PROP: George Soros MoveOn Agi...   \n",
       "409       23420  ‘Vote All You Want, The Secret Government Won’...   \n",
       "\n",
       "                                                  text      subject  \\\n",
       "93   BERLIN (Reuters) - German Chancellor Angela Me...    worldnews   \n",
       "335  MANILA (Reuters) - More than a thousand people...    worldnews   \n",
       "308  Shawn Helton 21st Century Wire The FBI have fi...  Middle-east   \n",
       "154  Shawn Helton 21st Century WireAnti-Trump stree...  Middle-east   \n",
       "409  21st Century Wire says Those who pull the stri...  Middle-east   \n",
       "\n",
       "                   date True/Fake  \\\n",
       "93   September 3, 2017       True   \n",
       "335    August 26, 2017       True   \n",
       "308       June 22, 2016      Fake   \n",
       "154   November 11, 2016      Fake   \n",
       "409       March 9, 2016      Fake   \n",
       "\n",
       "                                               Article  \\\n",
       "93   In shift, Merkel backs end to EU-Turkey member...   \n",
       "335  More than a thousand turn Philippine funeral t...   \n",
       "308  MISSING DETAILS: Orlando Shooting 911 Transcri...   \n",
       "154  ‘COLOR REV’ AGIT PROP: George Soros MoveOn Agi...   \n",
       "409  ‘Vote All You Want, The Secret Government Won’...   \n",
       "\n",
       "                                            Clean Text  \n",
       "93   [shift, Merkel, backs, end, EUTurkey, membersh...  \n",
       "335  [thousand, turn, Philippine, funeral, protest,...  \n",
       "308  [MISSING, DETAILS, Orlando, Shooting, 911, Tra...  \n",
       "154  [‘COLOR, REV’, AGIT, PROP, George, Soros, Move...  \n",
       "409  [‘Vote, Want, Secret, Government, Won’t, Chang...  "
      ]
     },
     "metadata": {},
     "execution_count": 8
    }
   ],
   "metadata": {
    "collapsed": false
   }
  },
  {
   "cell_type": "code",
   "execution_count": 9,
   "source": [
    "from sklearn.feature_extraction.text import CountVectorizer"
   ],
   "outputs": [],
   "metadata": {
    "collapsed": true
   }
  },
  {
   "cell_type": "code",
   "execution_count": 10,
   "source": [
    "bow_transformer = CountVectorizer(analyzer=process_text).fit(news['Clean Text'])\r\n",
    "\r\n",
    "print(len(bow_transformer.vocabulary_))"
   ],
   "outputs": [
    {
     "output_type": "stream",
     "name": "stdout",
     "text": [
      "893\n"
     ]
    }
   ],
   "metadata": {
    "collapsed": false
   }
  },
  {
   "cell_type": "code",
   "execution_count": 11,
   "source": [
    "\r\n",
    "news_bow = bow_transformer.transform(news['Clean Text'])"
   ],
   "outputs": [],
   "metadata": {
    "collapsed": true
   }
  },
  {
   "cell_type": "code",
   "execution_count": 12,
   "source": [
    "sparsity = (100.0 * news_bow.nnz / (news_bow.shape[0] * news_bow.shape[1]))\r\n",
    "print('sparsity: {}'.format(round(sparsity)))"
   ],
   "outputs": [
    {
     "output_type": "stream",
     "name": "stdout",
     "text": [
      "sparsity: 0\n"
     ]
    }
   ],
   "metadata": {
    "collapsed": false
   }
  },
  {
   "cell_type": "code",
   "execution_count": 13,
   "source": [
    "from sklearn.feature_extraction.text import TfidfTransformer\r\n",
    "\r\n",
    "tfidf_transformer = TfidfTransformer().fit(news_bow)\r\n",
    "news_tfidf = tfidf_transformer.transform(news_bow)\r\n",
    "print(news_tfidf.shape)"
   ],
   "outputs": [
    {
     "output_type": "stream",
     "name": "stdout",
     "text": [
      "(899, 893)\n"
     ]
    }
   ],
   "metadata": {
    "collapsed": false
   }
  },
  {
   "cell_type": "code",
   "execution_count": 14,
   "source": [
    "#Train Naive Bayes Model\r\n",
    "from sklearn.naive_bayes import MultinomialNB\r\n",
    "fakenews_detect_model = MultinomialNB().fit(news_tfidf, news['True/Fake'])"
   ],
   "outputs": [],
   "metadata": {
    "collapsed": true
   }
  },
  {
   "cell_type": "code",
   "execution_count": 15,
   "source": [
    "#Model Evaluation\r\n",
    "predictions = fakenews_detect_model.predict(news_tfidf)\r\n",
    "print(predictions)"
   ],
   "outputs": [
    {
     "output_type": "stream",
     "name": "stdout",
     "text": [
      "['True' 'True' 'True' 'True' 'True' 'True' 'True' 'True' 'True' 'True'\n",
      " 'True' 'True' 'True' 'True' 'True' 'True' 'True' 'True' 'True' 'True'\n",
      " 'True' 'True' 'True' 'True' 'True' 'True' 'True' 'True' 'True' 'True'\n",
      " 'True' 'True' 'True' 'True' 'True' 'True' 'True' 'True' 'True' 'True'\n",
      " 'True' 'True' 'True' 'True' 'True' 'True' 'True' 'True' 'True' 'True'\n",
      " 'True' 'True' 'True' 'True' 'True' 'True' 'True' 'True' 'True' 'True'\n",
      " 'True' 'True' 'True' 'True' 'True' 'True' 'True' 'True' 'True' 'True'\n",
      " 'True' 'True' 'True' 'True' 'True' 'True' 'True' 'True' 'True' 'True'\n",
      " 'True' 'True' 'True' 'True' 'True' 'True' 'True' 'True' 'True' 'True'\n",
      " 'True' 'True' 'True' 'True' 'True' 'True' 'True' 'True' 'True' 'True'\n",
      " 'True' 'True' 'True' 'True' 'True' 'True' 'True' 'True' 'True' 'True'\n",
      " 'True' 'True' 'True' 'True' 'True' 'True' 'True' 'True' 'True' 'True'\n",
      " 'True' 'True' 'True' 'True' 'True' 'True' 'True' 'True' 'True' 'True'\n",
      " 'True' 'True' 'True' 'True' 'True' 'True' 'True' 'True' 'True' 'True'\n",
      " 'True' 'True' 'True' 'True' 'True' 'True' 'True' 'True' 'True' 'True'\n",
      " 'True' 'True' 'True' 'True' 'True' 'True' 'True' 'True' 'True' 'True'\n",
      " 'True' 'True' 'True' 'True' 'True' 'True' 'True' 'True' 'True' 'True'\n",
      " 'True' 'True' 'True' 'True' 'True' 'True' 'True' 'True' 'True' 'True'\n",
      " 'True' 'True' 'True' 'True' 'True' 'True' 'True' 'True' 'True' 'True'\n",
      " 'True' 'True' 'True' 'True' 'True' 'True' 'True' 'True' 'True' 'True'\n",
      " 'True' 'True' 'True' 'True' 'True' 'True' 'True' 'True' 'True' 'True'\n",
      " 'True' 'True' 'True' 'True' 'True' 'True' 'True' 'True' 'True' 'True'\n",
      " 'True' 'True' 'True' 'True' 'True' 'True' 'True' 'True' 'True' 'True'\n",
      " 'True' 'True' 'True' 'True' 'True' 'True' 'True' 'True' 'True' 'True'\n",
      " 'True' 'True' 'True' 'True' 'True' 'True' 'True' 'True' 'True' 'True'\n",
      " 'True' 'True' 'True' 'True' 'True' 'True' 'True' 'True' 'True' 'True'\n",
      " 'True' 'True' 'True' 'True' 'True' 'True' 'True' 'True' 'True' 'True'\n",
      " 'True' 'True' 'True' 'True' 'True' 'True' 'True' 'True' 'True' 'True'\n",
      " 'True' 'True' 'True' 'True' 'True' 'True' 'True' 'True' 'True' 'True'\n",
      " 'True' 'True' 'True' 'True' 'True' 'True' 'True' 'True' 'True' 'True'\n",
      " 'True' 'True' 'True' 'True' 'True' 'True' 'True' 'True' 'True' 'True'\n",
      " 'True' 'True' 'True' 'True' 'True' 'True' 'True' 'True' 'True' 'True'\n",
      " 'True' 'True' 'True' 'True' 'True' 'True' 'True' 'True' 'True' 'True'\n",
      " 'True' 'True' 'True' 'True' 'True' 'True' 'True' 'True' 'True' 'True'\n",
      " 'True' 'True' 'True' 'True' 'True' 'True' 'True' 'True' 'True' 'True'\n",
      " 'True' 'True' 'True' 'True' 'True' 'True' 'True' 'True' 'True' 'True'\n",
      " 'True' 'True' 'True' 'True' 'True' 'True' 'True' 'True' 'True' 'True'\n",
      " 'True' 'True' 'True' 'True' 'True' 'True' 'True' 'True' 'True' 'True'\n",
      " 'True' 'True' 'True' 'True' 'True' 'True' 'True' 'True' 'True' 'True'\n",
      " 'True' 'True' 'True' 'True' 'True' 'True' 'True' 'True' 'True' 'True'\n",
      " 'True' 'True' 'True' 'True' 'True' 'True' 'True' 'True' 'True' 'True'\n",
      " 'True' 'True' 'True' 'True' 'True' 'True' 'True' 'True' 'True' 'True'\n",
      " 'True' 'True' 'True' 'True' 'True' 'True' 'True' 'True' 'True' 'Fake'\n",
      " 'Fake' 'Fake' 'Fake' 'Fake' 'Fake' 'Fake' 'Fake' 'Fake' 'Fake' 'Fake'\n",
      " 'Fake' 'Fake' 'Fake' 'Fake' 'Fake' 'Fake' 'Fake' 'Fake' 'Fake' 'Fake'\n",
      " 'Fake' 'Fake' 'Fake' 'Fake' 'Fake' 'Fake' 'Fake' 'Fake' 'Fake' 'Fake'\n",
      " 'Fake' 'Fake' 'Fake' 'Fake' 'Fake' 'Fake' 'Fake' 'Fake' 'Fake' 'Fake'\n",
      " 'Fake' 'Fake' 'Fake' 'Fake' 'Fake' 'Fake' 'Fake' 'Fake' 'Fake' 'Fake'\n",
      " 'Fake' 'Fake' 'Fake' 'Fake' 'Fake' 'Fake' 'Fake' 'Fake' 'Fake' 'Fake'\n",
      " 'Fake' 'Fake' 'Fake' 'Fake' 'Fake' 'Fake' 'Fake' 'Fake' 'Fake' 'Fake'\n",
      " 'Fake' 'Fake' 'Fake' 'Fake' 'Fake' 'Fake' 'Fake' 'Fake' 'Fake' 'Fake'\n",
      " 'Fake' 'Fake' 'Fake' 'Fake' 'Fake' 'Fake' 'Fake' 'Fake' 'Fake' 'Fake'\n",
      " 'Fake' 'Fake' 'Fake' 'Fake' 'Fake' 'Fake' 'Fake' 'Fake' 'Fake' 'Fake'\n",
      " 'Fake' 'Fake' 'Fake' 'Fake' 'Fake' 'Fake' 'Fake' 'Fake' 'Fake' 'Fake'\n",
      " 'Fake' 'Fake' 'Fake' 'Fake' 'Fake' 'Fake' 'Fake' 'Fake' 'Fake' 'Fake'\n",
      " 'Fake' 'Fake' 'Fake' 'Fake' 'Fake' 'Fake' 'Fake' 'Fake' 'Fake' 'Fake'\n",
      " 'Fake' 'Fake' 'Fake' 'Fake' 'Fake' 'Fake' 'Fake' 'Fake' 'Fake' 'Fake'\n",
      " 'Fake' 'Fake' 'Fake' 'Fake' 'Fake' 'Fake' 'Fake' 'Fake' 'Fake' 'Fake'\n",
      " 'Fake' 'Fake' 'Fake' 'Fake' 'Fake' 'Fake' 'Fake' 'Fake' 'Fake' 'Fake'\n",
      " 'Fake' 'Fake' 'Fake' 'Fake' 'Fake' 'Fake' 'Fake' 'Fake' 'Fake' 'Fake'\n",
      " 'Fake' 'Fake' 'Fake' 'Fake' 'Fake' 'Fake' 'Fake' 'Fake' 'Fake' 'Fake'\n",
      " 'Fake' 'Fake' 'Fake' 'Fake' 'Fake' 'Fake' 'Fake' 'Fake' 'Fake' 'Fake'\n",
      " 'Fake' 'Fake' 'Fake' 'Fake' 'Fake' 'Fake' 'Fake' 'Fake' 'Fake' 'Fake'\n",
      " 'Fake' 'Fake' 'Fake' 'Fake' 'Fake' 'Fake' 'Fake' 'Fake' 'Fake' 'Fake'\n",
      " 'Fake' 'Fake' 'Fake' 'Fake' 'Fake' 'Fake' 'Fake' 'Fake' 'Fake' 'Fake'\n",
      " 'Fake' 'Fake' 'Fake' 'Fake' 'Fake' 'Fake' 'Fake' 'Fake' 'Fake' 'Fake'\n",
      " 'Fake' 'Fake' 'Fake' 'Fake' 'Fake' 'Fake' 'Fake' 'Fake' 'Fake' 'Fake'\n",
      " 'Fake' 'Fake' 'Fake' 'Fake' 'Fake' 'Fake' 'Fake' 'Fake' 'Fake' 'Fake'\n",
      " 'Fake' 'Fake' 'Fake' 'Fake' 'Fake' 'Fake' 'Fake' 'Fake' 'Fake' 'Fake'\n",
      " 'Fake' 'Fake' 'Fake' 'Fake' 'Fake' 'Fake' 'Fake' 'Fake' 'Fake' 'Fake'\n",
      " 'Fake' 'Fake' 'Fake' 'Fake' 'Fake' 'Fake' 'Fake' 'Fake' 'Fake' 'Fake'\n",
      " 'Fake' 'Fake' 'Fake' 'Fake' 'Fake' 'Fake' 'Fake' 'Fake' 'Fake' 'Fake'\n",
      " 'Fake' 'Fake' 'Fake' 'Fake' 'Fake' 'Fake' 'Fake' 'Fake' 'Fake' 'Fake'\n",
      " 'Fake' 'Fake' 'Fake' 'Fake' 'Fake' 'Fake' 'Fake' 'Fake' 'Fake' 'Fake'\n",
      " 'Fake' 'Fake' 'Fake' 'Fake' 'Fake' 'Fake' 'Fake' 'Fake' 'Fake' 'Fake'\n",
      " 'Fake' 'Fake' 'Fake' 'Fake' 'Fake' 'Fake' 'Fake' 'Fake' 'Fake' 'Fake'\n",
      " 'Fake' 'Fake' 'Fake' 'Fake' 'Fake' 'Fake' 'Fake' 'Fake' 'Fake' 'Fake'\n",
      " 'Fake' 'Fake' 'Fake' 'Fake' 'Fake' 'Fake' 'Fake' 'Fake' 'Fake' 'Fake'\n",
      " 'Fake' 'Fake' 'Fake' 'Fake' 'Fake' 'Fake' 'Fake' 'Fake' 'Fake' 'Fake'\n",
      " 'Fake' 'Fake' 'Fake' 'Fake' 'Fake' 'Fake' 'Fake' 'Fake' 'Fake' 'Fake'\n",
      " 'Fake' 'Fake' 'Fake' 'Fake' 'Fake' 'Fake' 'Fake' 'Fake' 'Fake' 'Fake'\n",
      " 'Fake' 'Fake' 'Fake' 'Fake' 'Fake' 'Fake' 'Fake' 'Fake' 'Fake' 'Fake'\n",
      " 'Fake' 'Fake' 'Fake' 'Fake' 'Fake' 'Fake' 'Fake' 'Fake' 'Fake' 'Fake'\n",
      " 'Fake' 'Fake' 'Fake' 'Fake' 'Fake' 'Fake' 'Fake' 'Fake' 'Fake' 'Fake'\n",
      " 'Fake' 'Fake' 'Fake' 'Fake' 'Fake' 'Fake' 'Fake' 'Fake' 'Fake' 'Fake'\n",
      " 'Fake' 'Fake' 'Fake' 'Fake' 'Fake' 'Fake' 'Fake' 'Fake' 'Fake' 'Fake'\n",
      " 'Fake' 'Fake' 'Fake' 'Fake' 'Fake' 'Fake' 'Fake' 'Fake' 'Fake' 'Fake'\n",
      " 'Fake' 'Fake' 'Fake' 'Fake' 'Fake' 'Fake' 'Fake' 'Fake' 'Fake' 'Fake'\n",
      " 'Fake' 'Fake' 'Fake' 'Fake' 'Fake' 'Fake' 'Fake' 'Fake' 'Fake' 'Fake'\n",
      " 'Fake' 'Fake' 'Fake' 'Fake' 'Fake' 'Fake' 'Fake' 'Fake' 'Fake']\n"
     ]
    }
   ],
   "metadata": {
    "collapsed": false
   }
  },
  {
   "cell_type": "code",
   "execution_count": 16,
   "source": [
    "from sklearn.metrics import classification_report\r\n",
    "print (classification_report(news['True/Fake'], predictions))"
   ],
   "outputs": [
    {
     "output_type": "stream",
     "name": "stdout",
     "text": [
      "              precision    recall  f1-score   support\n",
      "\n",
      "        Fake       1.00      1.00      1.00       470\n",
      "        True       1.00      1.00      1.00       429\n",
      "\n",
      "    accuracy                           1.00       899\n",
      "   macro avg       1.00      1.00      1.00       899\n",
      "weighted avg       1.00      1.00      1.00       899\n",
      "\n"
     ]
    }
   ],
   "metadata": {
    "collapsed": false
   }
  },
  {
   "cell_type": "code",
   "execution_count": 17,
   "source": [
    "from sklearn.model_selection import train_test_split\r\n",
    "\r\n",
    "news_train, news_test, text_train, text_test = train_test_split(news['Article'], news['True/Fake'], test_size=0.3)\r\n",
    "\r\n",
    "print(len(news_train), len(news_test), len(news_train) + len(news_test))"
   ],
   "outputs": [
    {
     "output_type": "stream",
     "name": "stdout",
     "text": [
      "629 270 899\n"
     ]
    }
   ],
   "metadata": {
    "collapsed": false
   }
  },
  {
   "cell_type": "code",
   "execution_count": 18,
   "source": [
    "from sklearn.pipeline import Pipeline\r\n",
    "\r\n",
    "pipeline = Pipeline([\r\n",
    "    ('bow', CountVectorizer(analyzer=process_text)), \r\n",
    "    ('tfidf', TfidfTransformer()), \r\n",
    "    ('classifier', MultinomialNB()),\r\n",
    "])\r\n",
    "pipeline.fit(news_train,text_train)"
   ],
   "outputs": [
    {
     "output_type": "execute_result",
     "data": {
      "text/plain": [
       "Pipeline(steps=[('bow',\n",
       "                 CountVectorizer(analyzer=<function process_text at 0x00000255103E2D38>)),\n",
       "                ('tfidf', TfidfTransformer()),\n",
       "                ('classifier', MultinomialNB())])"
      ]
     },
     "metadata": {},
     "execution_count": 18
    }
   ],
   "metadata": {
    "collapsed": false
   }
  },
  {
   "cell_type": "code",
   "execution_count": 19,
   "source": [
    "predictions = pipeline.predict(news_test)"
   ],
   "outputs": [],
   "metadata": {
    "collapsed": true
   }
  },
  {
   "cell_type": "code",
   "execution_count": 20,
   "source": [
    "# Hasil Akhir\r\n",
    "print(classification_report(predictions,text_test))"
   ],
   "outputs": [
    {
     "output_type": "stream",
     "name": "stdout",
     "text": [
      "              precision    recall  f1-score   support\n",
      "\n",
      "        Fake       1.00      1.00      1.00       145\n",
      "        True       1.00      1.00      1.00       125\n",
      "\n",
      "    accuracy                           1.00       270\n",
      "   macro avg       1.00      1.00      1.00       270\n",
      "weighted avg       1.00      1.00      1.00       270\n",
      "\n"
     ]
    }
   ],
   "metadata": {
    "collapsed": false
   }
  },
  {
   "cell_type": "code",
   "execution_count": null,
   "source": [],
   "outputs": [],
   "metadata": {
    "collapsed": true
   }
  }
 ],
 "metadata": {
  "anaconda-cloud": {},
  "kernelspec": {
   "name": "python3",
   "display_name": "Python 3.7.4 64-bit"
  },
  "language_info": {
   "codemirror_mode": {
    "name": "ipython",
    "version": 3
   },
   "file_extension": ".py",
   "mimetype": "text/x-python",
   "name": "python",
   "nbconvert_exporter": "python",
   "pygments_lexer": "ipython3",
   "version": "3.7.4"
  },
  "interpreter": {
   "hash": "0edbecc9b6cb096fad560000fba39be3e8c326b164b418d7c8f8037b697b209d"
  }
 },
 "nbformat": 4,
 "nbformat_minor": 1
}